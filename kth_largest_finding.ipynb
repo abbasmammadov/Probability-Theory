{
  "nbformat": 4,
  "nbformat_minor": 0,
  "metadata": {
    "colab": {
      "name": "20200844_Abbas Mammadov_MAS350_HW1.ipynb",
      "provenance": [],
      "collapsed_sections": []
    },
    "kernelspec": {
      "name": "python3",
      "display_name": "Python 3"
    },
    "language_info": {
      "name": "python"
    }
  },
  "cells": [
    {
      "cell_type": "markdown",
      "source": [
        "$k^{th}$ largest element finding algorithm.\n",
        "\n",
        "Input: Set S with n elements\n",
        "\n",
        "Output: $k^{th}$ largest element of set S.\n",
        "\n",
        "ALGORITHM\n",
        "\n",
        "1. Pick a (multi-)set $R$ of \u0010$\\lceil n^{(3/4)} \\rceil $\u0011 elements in $S$, chosen independently and uniformly at random with replacement.\n",
        "2. Sort the set $R$.\n",
        "3. Let $d$ be the $\\lfloor \\frac{n-k+1}{n}n^{3/4} - \\sqrt n \\rfloor$th smallest element in the sorted set $R$. If the number is negative take the smallest element of $R$.\n",
        "4. Let $u$ be the $\\lfloor \\frac{n-k+1}{n}n^{3/4} + \\sqrt n \\rfloor$th smallest element in the sorted set $R$. If the number is greater than set size take the largest element of $R$.\n",
        "5. By comparing every element in $S$ to $d$ and $u$, compute the set\n",
        "$C = \\{ x ∈ S : d ≤ x ≤ u \\}$ and the numbers $l_{d} = |\\{ x ∈ S : x < d \\}|$ and $l_{u} = |\\{ x ∈ S : x > u \\}|$.\n",
        "6. If \u0006$l_{d} \\geq n-k+1$ or $l_{u}> k-1$ then FAIL and repeat from step 1. \n",
        "7. If $|C| ≤ 4n^{3/4}$ then sort the set $C$, otherwise FAIL and repeat from step 1. \n",
        "8. Output the $(n - k − \u0006l_{d})$th element in the sorted order of $C$."
      ],
      "metadata": {
        "id": "eQC4ctHmot1p"
      }
    },
    {
      "cell_type": "code",
      "source": [
        "import numpy as np\n",
        "import math\n",
        "\n",
        "def kth_finding(s, k):\n",
        "    n = len(s) #step 0: let's fix cardinality of inital set s\n",
        "    #step 1\n",
        "    index_list = np.random.randint(0, n, math.ceil(n**(3/4)))\n",
        "    R = [s[i] for i in index_list]\n",
        "    #step 2\n",
        "    R.sort()\n",
        "    #step 3 and 4\n",
        "    d_prime = math.floor(((n-k+1)/n)*(n**(3/4)) - math.sqrt(n)) #desired indices\n",
        "    u_prime = math.ceil(((n-k+1)/n)*(n**(3/4)) + math.sqrt(n))\n",
        "    if d_prime < 0:\n",
        "        d = R[0]\n",
        "    else:\n",
        "        d = R[d_prime]\n",
        "\n",
        "    if u_prime > math.ceil(n**(3/4))-1:\n",
        "        u = R[-1]\n",
        "    else:\n",
        "        u = R[u_prime]\n",
        "    #step 5\n",
        "    C = [x for x in s if (x>=d and x<=u)]\n",
        "    l_d = len([x for x in s if x<d])\n",
        "    l_u = len([x for x in s if x>u])\n",
        "    #step 6 and 7\n",
        "    if l_d>=n-k+1 or l_u>k-1 or len(C)>4*(n**(3/4)):\n",
        "        return kth_finding(s, k)\n",
        "    C.sort()\n",
        "    #step 8\n",
        "    return C[n-k-l_d]\n",
        "\n",
        "\n",
        "'''\n",
        "            Validation Check\n",
        "'''\n",
        "\n",
        "'''\n",
        "#I added below part of the code to check whether my algorithm works or not, and\n",
        "#it resulted always 100% accuracy to find k_th largest element out of 10000\n",
        "#random trials. 'count' shows the number of False results which is always zero.\n",
        "\n",
        "truth = list()\n",
        "for i in range(1, 10000):\n",
        "    k = int(np.random.randint(1, i+1, 1))\n",
        "    l = np.random.randint(1, i+1, i)\n",
        "    m_pred = kth_finding(l, k)\n",
        "    l.sort()\n",
        "    m_real = l[-k]\n",
        "    truth.append(m_real == m_pred)\n",
        "count = truth.count(False)\n",
        "print(count)\n",
        "'''"
      ],
      "metadata": {
        "colab": {
          "base_uri": "https://localhost:8080/"
        },
        "id": "tz7U541Uiw4o",
        "outputId": "1bd20c4e-48fe-4b09-e560-7ca21060f465"
      },
      "execution_count": 45,
      "outputs": [
        {
          "output_type": "stream",
          "name": "stdout",
          "text": [
            "0\n"
          ]
        }
      ]
    },
    {
      "cell_type": "code",
      "source": [
        ""
      ],
      "metadata": {
        "id": "MY3jbcT6kkwP"
      },
      "execution_count": null,
      "outputs": []
    }
  ]
}